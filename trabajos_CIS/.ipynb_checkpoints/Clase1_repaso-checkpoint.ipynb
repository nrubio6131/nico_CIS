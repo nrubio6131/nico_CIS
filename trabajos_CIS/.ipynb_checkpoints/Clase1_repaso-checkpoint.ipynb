{
 "cells": [
  {
   "cell_type": "markdown",
   "metadata": {},
   "source": [
    "# Anaconda navigator\n",
    "* Jupyter\n",
    "* Spyder\n",
    "* CMD"
   ]
  },
  {
   "cell_type": "markdown",
   "metadata": {},
   "source": [
    "# CMD\n",
    "* comandos para utilizar windows sin interfaz grafica <br>\n",
    "https://www.abrirllave.com/cmd/comandos.php <br>\n",
    "* dir\n",
    "* cd \n",
    "* ./\n",
    "* ../"
   ]
  },
  {
   "cell_type": "markdown",
   "metadata": {},
   "source": [
    "# Python\n",
    "* Multiparadigma\n",
    "    * Estructurado\n",
    "    * Funcional\n",
    "    * Poo\n",
    "* Es legible!\n",
    "* sirve para hacer muchas cosas\n",
    "    * Ciencia de datos\n",
    "    * Hacking\n",
    "    * (Matlab)\n",
    "        * matrices\n",
    "        * solucionar ecuaciones lineales\n",
    "    * Diseño web\n",
    "        * Django\n",
    "    * interfaces graficas\n",
    "        * comunicacion serial\n",
    "        \n",
    "        https://www.youtube.com/watch?v=XCe4P4Og1fg\n",
    "        \n",
    "        https://www.youtube.com/watch?v=OvrZ_noc4Kg"
   ]
  },
  {
   "cell_type": "markdown",
   "metadata": {},
   "source": [
    "# como vamos a trabaja en pyton\n",
    "* Jupyter\n",
    "* Colab (jupyter online)\n",
    "* github\n",
    "    * crear repositorio\n",
    "    * clonar repositorio\n",
    "    * actulizar repositorio\n",
    "        * git add.\n",
    "        * git commmit-m \"esto es un mensaje para guardar el commit\"\n",
    "        * git push origin master\n",
    "        * git merge origin master\n",
    "    * https://www.youtube.com/watch?v=HiXLkL42tMU&t=2649s\n",
    "    * https://www.youtube.com/watch?v=Br6CIxKC1uo"
   ]
  },
  {
   "cell_type": "markdown",
   "metadata": {},
   "source": [
    "# Jupyter\n",
    "jupyter es una herramienta para realizar codigo python y explicarlo adecuadamente\n"
   ]
  },
  {
   "cell_type": "markdown",
   "metadata": {},
   "source": [
    "# Codigo en Pyton\n",
    "https://www.youtube.com/watch?v=chPhlsHoEPo&t=1s\n"
   ]
  },
  {
   "cell_type": "markdown",
   "metadata": {},
   "source": [
    "###  Tipos de datos\n",
    "* numeros (int,double,float,complex) \n",
    "* caracteres letras ('s' 'hola mundo')\n",
    "* arreglos\n",
    "    * list (serie de datos)\n",
    "    * tupples (lista inmutable)\n",
    "    * dicc (lista con diferente indice)"
   ]
  },
  {
   "cell_type": "code",
   "execution_count": 9,
   "metadata": {},
   "outputs": [
    {
     "name": "stdout",
     "output_type": "stream",
     "text": [
      "3\n"
     ]
    }
   ],
   "source": [
    "x=3\n",
    "x=3.3\n",
    "x=complex(3,5)\n",
    "x='a'\n",
    "x='hola mundo'\n",
    "print(x)"
   ]
  },
  {
   "cell_type": "code",
   "execution_count": 2,
   "metadata": {},
   "outputs": [
    {
     "name": "stdout",
     "output_type": "stream",
     "text": [
      "h o\n",
      "holA mundo\n",
      "hola mundo\n",
      "HOLA MUNDO\n",
      "Hola Mundo\n",
      "2\n",
      "lolA mundo\n",
      "['holA', 'mundo']\n",
      "['ho', 'lA mu', 'ndo']\n"
     ]
    }
   ],
   "source": [
    "x='holA mundo'\n",
    "print(x[0],x[-1])\n",
    "print(x)\n",
    "print(x.lower())\n",
    "print(x.upper())\n",
    "print(x.title())\n",
    "print(x.count('o'))\n",
    "print(x.replace('h','l'))\n",
    "print(x.split(' '))\n",
    "x='ho,lA mu,ndo'\n",
    "print(x.split(','))"
   ]
  },
  {
   "cell_type": "code",
   "execution_count": 88,
   "metadata": {},
   "outputs": [
    {
     "name": "stdout",
     "output_type": "stream",
     "text": [
      "['a', 'c', 'f', 's']\n",
      "['s', 'f', 'c', 'a']\n"
     ]
    }
   ],
   "source": [
    "lista=[1,7,4,8,3,6]\n",
    "print(lista)\n",
    "lista.append(2)\n",
    "print(lista)\n",
    "lista.insert(1,9)\n",
    "print(lista)\n",
    "lista.sort()\n",
    "print(lista)\n",
    "lista2=['a','c','b','z','r']\n",
    "lista2.sort()\n",
    "print(lista2)\n",
    "lista.extend(lista2)\n",
    "print(lista)"
   ]
  },
  {
   "cell_type": "code",
   "execution_count": 108,
   "metadata": {},
   "outputs": [
    {
     "name": "stdout",
     "output_type": "stream",
     "text": [
      "(6, 8, 7)\n"
     ]
    }
   ],
   "source": [
    "tup=(1,7,4,8,3,6)\n",
    "print(tup)\n",
    "# tup.append(2)\n",
    "print(tup[0:2])\n",
    "print(tup[:])\n",
    "print(tup[::2])\n",
    "print(tup[::-1])"
   ]
  },
  {
   "cell_type": "code",
   "execution_count": 164,
   "metadata": {},
   "outputs": [
    {
     "name": "stdout",
     "output_type": "stream",
     "text": [
      "None\n"
     ]
    }
   ],
   "source": [
    "dicc={5,3,2}\n",
    "print(type(dicc))\n",
    "# dicc[0]\n",
    "dicc={0:5,1:3,2:2}\n",
    "print(type(dicc))\n",
    "print(dicc[0])\n",
    "\n",
    "dicc={'gato':5,'perro':3,'conejo':2}\n",
    "print(dicc)\n",
    "print(dicc['gato'])\n",
    "print(dicc.get('perro'))\n",
    "del dicc['perro']\n",
    "print(dicc)\n",
    "print(dicc.values())\n",
    "\n",
    "dicc2={'caballo':10,'lechuza':13}\n",
    "print(dicc)\n",
    "dicc.update(dicc2)\n",
    "print(dicc)\n",
    "dicc['perro']=3\n",
    "print(dicc)\n"
   ]
  },
  {
   "cell_type": "markdown",
   "metadata": {},
   "source": [
    "### condicional\n",
    "https://pythones.net/operadores-basicos-en-python/"
   ]
  },
  {
   "cell_type": "code",
   "execution_count": 171,
   "metadata": {},
   "outputs": [
    {
     "name": "stdout",
     "output_type": "stream",
     "text": [
      "existe el perro\n"
     ]
    }
   ],
   "source": [
    "\n",
    "y='perro'\n",
    "if y in dicc:\n",
    "    print('existe el {}'.format(y))\n",
    "else:\n",
    "    print('no existe el animal en el diccionario')"
   ]
  },
  {
   "cell_type": "markdown",
   "metadata": {},
   "source": [
    "### ciclos\n"
   ]
  },
  {
   "cell_type": "code",
   "execution_count": 177,
   "metadata": {},
   "outputs": [
    {
     "name": "stdout",
     "output_type": "stream",
     "text": [
      "Actual valor de variable 9\n",
      "Actual valor de variable 8\n",
      "Actual valor de variable 7\n",
      "Actual valor de variable 6\n"
     ]
    }
   ],
   "source": [
    "variable = 10\n",
    "\n",
    "while variable > 0:\n",
    "    variable = variable -1\n",
    "    if variable == 5:\n",
    "#         pass\n",
    "#         continue\n",
    "#         break\n",
    "    print ('Actual valor de variable', variable)\n",
    "\n",
    "   "
   ]
  },
  {
   "cell_type": "code",
   "execution_count": 192,
   "metadata": {},
   "outputs": [
    {
     "name": "stdout",
     "output_type": "stream",
     "text": [
      "['gato', 'perro', 'conejo', 2, (3+2j)]\n"
     ]
    }
   ],
   "source": [
    "animales = ['gato', 'perro', 'conejo',2,complex(3,2)]\n",
    "for t in animales:\n",
    "    pass\n",
    "print(animales)"
   ]
  },
  {
   "cell_type": "markdown",
   "metadata": {},
   "source": [
    "### Funciones"
   ]
  },
  {
   "cell_type": "code",
   "execution_count": 211,
   "metadata": {},
   "outputs": [],
   "source": [
    "def iva(costo):\n",
    "    iva = 19\n",
    "    calculo = costo*iva/100\n",
    "    print (\"El calculo de IVA es: {}\".format(calculo))\n",
    "    print('El precio total del producto es:{}'.format(costo+calculo)) \n",
    "    \n",
    "def resta(numero1,numero2):\n",
    "    '''función la cual suma dos números'''\n",
    "    print (numero1 - numero2)\n",
    "    print (\"\\n\")\n",
    "# iva(100)\n",
    "# suma(13,15)"
   ]
  },
  {
   "cell_type": "code",
   "execution_count": 208,
   "metadata": {},
   "outputs": [
    {
     "name": "stdout",
     "output_type": "stream",
     "text": [
      "1\n",
      "\n",
      "\n"
     ]
    }
   ],
   "source": [
    "resta(3,2)"
   ]
  }
 ],
 "metadata": {
  "kernelspec": {
   "display_name": "Python 3",
   "language": "python",
   "name": "python3"
  },
  "language_info": {
   "codemirror_mode": {
    "name": "ipython",
    "version": 3
   },
   "file_extension": ".py",
   "mimetype": "text/x-python",
   "name": "python",
   "nbconvert_exporter": "python",
   "pygments_lexer": "ipython3",
   "version": "3.7.6"
  }
 },
 "nbformat": 4,
 "nbformat_minor": 4
}
