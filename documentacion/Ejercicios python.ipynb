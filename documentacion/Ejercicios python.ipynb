{
 "cells": [
  {
   "cell_type": "markdown",
   "metadata": {},
   "source": [
    "### Ejercicio1"
   ]
  },
  {
   "cell_type": "code",
   "execution_count": 1,
   "metadata": {},
   "outputs": [
    {
     "name": "stdout",
     "output_type": "stream",
     "text": [
      "¡Hola Mundo!\n"
     ]
    }
   ],
   "source": [
    "print('¡Hola Mundo!')"
   ]
  },
  {
   "cell_type": "markdown",
   "metadata": {},
   "source": [
    "### Ejercicio2"
   ]
  },
  {
   "cell_type": "code",
   "execution_count": 2,
   "metadata": {},
   "outputs": [
    {
     "name": "stdout",
     "output_type": "stream",
     "text": [
      "¡Hola Mundo!\n"
     ]
    }
   ],
   "source": [
    "var_ejercicio2='¡Hola Mundo!'\n",
    "print(var_ejercicio2)"
   ]
  },
  {
   "cell_type": "markdown",
   "metadata": {},
   "source": [
    "### Ejercicio3"
   ]
  },
  {
   "cell_type": "code",
   "execution_count": 3,
   "metadata": {},
   "outputs": [
    {
     "name": "stdout",
     "output_type": "stream",
     "text": [
      "¡Hola pepito!\n"
     ]
    }
   ],
   "source": [
    "var_ejercicio3='pepito'\n",
    "print('¡Hola {}!'.format(var_ejercicio3))"
   ]
  },
  {
   "cell_type": "markdown",
   "metadata": {},
   "source": [
    "### Ejercicio4"
   ]
  },
  {
   "cell_type": "code",
   "execution_count": 21,
   "metadata": {},
   "outputs": [
    {
     "name": "stdout",
     "output_type": "stream",
     "text": [
      "introduzca un nombre\n",
      "introduzca un numero entero\n",
      "El numero no es entero\n"
     ]
    }
   ],
   "source": [
    "print('introduzca un nombre')\n",
    "# nombre_ejercicio4=input()\n",
    "nombre_ejercicio4='nicolas'\n",
    "print('introduzca un numero entero')\n",
    "# numero_ejercicio4=input()\n",
    "numero_ejercicio4=5.1\n",
    "if numero_ejercicio4 % 1 == 0:\n",
    "    for imp in range(numero_ejercicio4):\n",
    "        print(nombre_ejercicio4)\n",
    "else:\n",
    "    print('El numero no es entero')"
   ]
  },
  {
   "cell_type": "code",
   "execution_count": 22,
   "metadata": {},
   "outputs": [
    {
     "name": "stdout",
     "output_type": "stream",
     "text": [
      "introduzca un nombre\n",
      "nicolas\n",
      "introduzca un numero entero\n",
      "4\n",
      "nicolas  \n",
      "nicolas  \n",
      "nicolas  \n",
      "nicolas  \n",
      "\n"
     ]
    }
   ],
   "source": [
    "print('introduzca un nombre')\n",
    "nombre_ejercicio4=input()\n",
    "print('introduzca un numero entero')\n",
    "numero_ejercicio4=input()\n",
    "try:\n",
    "    print(('{}  \\n').format(nombre_ejercicio4)*int(numero_ejercicio4))\n",
    "except ValueError:\n",
    "    print('El numero no es entero')### Ejercicio4"
   ]
  },
  {
   "cell_type": "markdown",
   "metadata": {},
   "source": [
    "### Ejercicio5"
   ]
  },
  {
   "cell_type": "code",
   "execution_count": 23,
   "metadata": {
    "scrolled": true
   },
   "outputs": [
    {
     "name": "stdout",
     "output_type": "stream",
     "text": [
      "nicolas\n",
      "NICOLAS tiene 7 letras\n"
     ]
    }
   ],
   "source": [
    "nombre_ejercicio5=input()\n",
    "if nombre_ejercicio5.isalpha():\n",
    "    print('{} tiene {} letras'.format(nombre_ejercicio5.upper(),len(nombre_ejercicio5)))\n",
    "else:\n",
    "    print('{} no es un nombre valido'.format(nombre_ejercicio5))"
   ]
  },
  {
   "cell_type": "markdown",
   "metadata": {},
   "source": [
    "### Ejercicio6"
   ]
  },
  {
   "cell_type": "code",
   "execution_count": 24,
   "metadata": {},
   "outputs": [
    {
     "name": "stdout",
     "output_type": "stream",
     "text": [
      "0.25\n"
     ]
    }
   ],
   "source": [
    "var_ejercicio6= ((3 + 2) / (2 * 5)) ** 2\n",
    "print(var_ejercicio6)"
   ]
  },
  {
   "cell_type": "markdown",
   "metadata": {},
   "source": [
    "### Ejercicio7"
   ]
  },
  {
   "cell_type": "code",
   "execution_count": 32,
   "metadata": {},
   "outputs": [
    {
     "name": "stdout",
     "output_type": "stream",
     "text": [
      "horas de trabajo: 6\n",
      "Costo/hora:1000\n",
      "las ganancias son 6000 pesos\n"
     ]
    }
   ],
   "source": [
    "horas_ejercicio7 = input(\"horas de trabajo: \")\n",
    "costo_ejercicio7 = input(\"Costo/hora:\")\n",
    "precio_total=float(horas_ejercicio7)*float(costo_ejercicio7)\n",
    "print('las ganancias son {} pesos'.format(int(precio_total)))"
   ]
  },
  {
   "cell_type": "markdown",
   "metadata": {},
   "source": [
    "### Ejercicio8"
   ]
  },
  {
   "cell_type": "code",
   "execution_count": 42,
   "metadata": {},
   "outputs": [
    {
     "name": "stdout",
     "output_type": "stream",
     "text": [
      "el resultado 10! es: 55\n"
     ]
    }
   ],
   "source": [
    "n_ejercicio8=10\n",
    "suma=int((n_ejercicio8*(n_ejercicio8+1))/2)\n",
    "print('el resultado {}! es: {}'.format(n_ejercicio8,suma))"
   ]
  },
  {
   "cell_type": "markdown",
   "metadata": {},
   "source": [
    "### Ejercicio9"
   ]
  },
  {
   "cell_type": "code",
   "execution_count": 51,
   "metadata": {},
   "outputs": [
    {
     "name": "stdout",
     "output_type": "stream",
     "text": [
      "Peso en kg: 76\n",
      "estatura en m: 1.8\n",
      "El imc es de: 23.46\n"
     ]
    }
   ],
   "source": [
    "peso_ejercicio9 = float(input(\"Peso en kg: \"))\n",
    "estatura_ejercicio9 = float(input(\"estatura en m: \"))\n",
    "imc=peso_ejercicio9/(estatura_ejercicio9**2)\n",
    "print('El imc es de: {}'.format(round(imc,2)))"
   ]
  },
  {
   "cell_type": "markdown",
   "metadata": {},
   "source": [
    "### Ejercicio10"
   ]
  },
  {
   "cell_type": "code",
   "execution_count": 67,
   "metadata": {},
   "outputs": [
    {
     "name": "stdout",
     "output_type": "stream",
     "text": [
      "ingrese el valor m: 5\n",
      "ingrese el valor n: 6\n",
      "6 entre 5 da un coeficiente 1 y un resto 1\n"
     ]
    }
   ],
   "source": [
    "m_ejercicio9=int(input('ingrese el valor m: '))\n",
    "n_ejercicio9=int(input('ingrese el valor n: '))\n",
    "print('{} entre {} da un coeficiente {} y un resto {}'.format(n_ejercicio9,\n",
    "                                                              m_ejercicio9,\n",
    "                                                              n_ejercicio9//m_ejercicio9,\n",
    "                                                              n_ejercicio9%m_ejercicio9))\n"
   ]
  },
  {
   "cell_type": "markdown",
   "metadata": {},
   "source": [
    "### Ejercicio11"
   ]
  },
  {
   "cell_type": "code",
   "execution_count": 37,
   "metadata": {},
   "outputs": [
    {
     "name": "stdout",
     "output_type": "stream",
     "text": [
      "ingrese la cantidad que desea invertir en pesos colombianos100\n",
      "cuanto es el interes anual de su inversión4\n",
      "por cuantos años va a realizar la inversión?10\n",
      "las ganancias por la inversion son 148 pesos\n"
     ]
    }
   ],
   "source": [
    "cantidad_ejercicio10=int(input('ingrese la cantidad que desea invertir en pesos colombianos'))\n",
    "interes_anual_ejercicio10=int(input('cuanto es el interes anual de su inversión'))\n",
    "años_ejercicio10=int(input('por cuantos años va a realizar la inversión?'))\n",
    "capital_total_ejercicio10 = cantidad_ejercicio10\n",
    "for año  in range(años_ejercicio10):\n",
    "    capital_total_ejercicio10 = capital_total_ejercicio10 * (1 + interes_anual_ejercicio10/100)\n",
    "print('las ganancias por la inversion son {} pesos'.format(int(capital_total_ejercicio10)   ))\n",
    "# la solución directa a a la ecuacion es\n",
    "#int(cantidad_ejercicio10*((1+(interes_anual_ejercicio10/100))**años_ejercicio10))"
   ]
  },
  {
   "cell_type": "code",
   "execution_count": null,
   "metadata": {},
   "outputs": [],
   "source": []
  }
 ],
 "metadata": {
  "kernelspec": {
   "display_name": "Python 3",
   "language": "python",
   "name": "python3"
  },
  "language_info": {
   "codemirror_mode": {
    "name": "ipython",
    "version": 3
   },
   "file_extension": ".py",
   "mimetype": "text/x-python",
   "name": "python",
   "nbconvert_exporter": "python",
   "pygments_lexer": "ipython3",
   "version": "3.7.6"
  }
 },
 "nbformat": 4,
 "nbformat_minor": 4
}
